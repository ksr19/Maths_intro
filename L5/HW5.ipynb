{
 "cells": [
  {
   "cell_type": "markdown",
   "metadata": {},
   "source": [
    "## Урок 5. Домашнее задание"
   ]
  },
  {
   "cell_type": "code",
   "execution_count": 1,
   "metadata": {},
   "outputs": [],
   "source": [
    "import numpy as np\n",
    "import itertools\n",
    "from matplotlib import pyplot as plt\n",
    "\n",
    "%matplotlib inline"
   ]
  },
  {
   "cell_type": "markdown",
   "metadata": {},
   "source": [
    "__Задание 1.__ Напишите код, моделирующий выпадение поля в рулетке (с учетом поля зеро)."
   ]
  },
  {
   "cell_type": "markdown",
   "metadata": {},
   "source": [
    "__Решение:__"
   ]
  },
  {
   "cell_type": "code",
   "execution_count": 2,
   "metadata": {},
   "outputs": [
    {
     "data": {
      "text/plain": [
       "11"
      ]
     },
     "execution_count": 2,
     "metadata": {},
     "output_type": "execute_result"
    }
   ],
   "source": [
    "# 37 - количество полей в рулетке 36 чисел + зеро\n",
    "def spin():\n",
    "    return np.random.randint(0, 37)\n",
    "\n",
    "spin()"
   ]
  },
  {
   "cell_type": "markdown",
   "metadata": {},
   "source": [
    "__Задание 2.__\n",
    "1) Напишите код, проверяющий любую из теорем сложения или умножения вероятности на примере рулетки или подбрасывания монетки. <br>\n",
    "2) Сгенерируйте десять выборок случайных чисел х0, …, х9 и постройте гистограмму распределения случайной суммы  х0+ …+ х 9. "
   ]
  },
  {
   "cell_type": "markdown",
   "metadata": {},
   "source": [
    "__Решение:__ <br>\n",
    "1) Рассмотрим утверждение, что если $A, B, ... $ - полная группа несовместных событий, то $P(A) + P(B) + ... = 1$. Очевидно, что во время игры в рулетку может выпасть только одно поле, то есть события являются несовместными. Каждое поле представляет собой таким образом одно из множества несовместных событий. Проведем эксперименты, затем оценим вероятность выпадения каждого поля, и сумму всех вероятностей."
   ]
  },
  {
   "cell_type": "code",
   "execution_count": 3,
   "metadata": {},
   "outputs": [
    {
     "name": "stdout",
     "output_type": "stream",
     "text": [
      "Вероятность выпадения значения 0 - 0.026867.\n",
      "Вероятность выпадения значения 1 - 0.027065.\n",
      "Вероятность выпадения значения 2 - 0.027071.\n",
      "Вероятность выпадения значения 3 - 0.026959.\n",
      "Вероятность выпадения значения 4 - 0.026694.\n",
      "Вероятность выпадения значения 5 - 0.026844.\n",
      "Вероятность выпадения значения 6 - 0.026852.\n",
      "Вероятность выпадения значения 7 - 0.027165.\n",
      "Вероятность выпадения значения 8 - 0.027307.\n",
      "Вероятность выпадения значения 9 - 0.027107.\n",
      "Вероятность выпадения значения 10 - 0.027048.\n",
      "Вероятность выпадения значения 11 - 0.027103.\n",
      "Вероятность выпадения значения 12 - 0.027105.\n",
      "Вероятность выпадения значения 13 - 0.026877.\n",
      "Вероятность выпадения значения 14 - 0.027047.\n",
      "Вероятность выпадения значения 15 - 0.026873.\n",
      "Вероятность выпадения значения 16 - 0.026990.\n",
      "Вероятность выпадения значения 17 - 0.027037.\n",
      "Вероятность выпадения значения 18 - 0.027183.\n",
      "Вероятность выпадения значения 19 - 0.027092.\n",
      "Вероятность выпадения значения 20 - 0.027248.\n",
      "Вероятность выпадения значения 21 - 0.027155.\n",
      "Вероятность выпадения значения 22 - 0.026831.\n",
      "Вероятность выпадения значения 23 - 0.027094.\n",
      "Вероятность выпадения значения 24 - 0.026751.\n",
      "Вероятность выпадения значения 25 - 0.026841.\n",
      "Вероятность выпадения значения 26 - 0.027165.\n",
      "Вероятность выпадения значения 27 - 0.026817.\n",
      "Вероятность выпадения значения 28 - 0.027253.\n",
      "Вероятность выпадения значения 29 - 0.027250.\n",
      "Вероятность выпадения значения 30 - 0.026916.\n",
      "Вероятность выпадения значения 31 - 0.027106.\n",
      "Вероятность выпадения значения 32 - 0.027057.\n",
      "Вероятность выпадения значения 33 - 0.027053.\n",
      "Вероятность выпадения значения 34 - 0.027081.\n",
      "Вероятность выпадения значения 35 - 0.026973.\n",
      "Вероятность выпадения значения 36 - 0.027123.\n",
      "Суммарная вероятность всех событий равна = 1.000000.\n"
     ]
    }
   ],
   "source": [
    "# 37 - количество полей в рулетке 36 чисел + зеро\n",
    "events = [0] * 37\n",
    "# количество экспериментов\n",
    "experiments = 1000000\n",
    "for i in range(experiments):\n",
    "    events[spin()] += 1\n",
    "        \n",
    "for i in range(0, len(events)):\n",
    "    print(f'Вероятность выпадения значения {i} - {events[i]/experiments:.6f}.')\n",
    "\n",
    "print(f'Суммарная вероятность всех событий равна = {np.sum(events)/experiments:.6f}.')"
   ]
  },
  {
   "cell_type": "markdown",
   "metadata": {},
   "source": [
    "Вообще говоря каждое поле рулетки имеет одинаковую вероятность выпадения - $\\frac{1}{37} \\approx 0.027027$. Как видим, полученные в ходе нашего эксперимента вероятности очень близки к этому значению. А самое главное мы подтвердили одну из теорем сложения вероятности, что сумма вероятностей всех несовместных событий равна единице."
   ]
  },
  {
   "cell_type": "markdown",
   "metadata": {},
   "source": [
    "2) Сгенерируем 10 случайных выборок, каждая из которых состоит из 10000 чисел. То есть каждая выборка будет своего рода вектор с 10000 координат. Затем сложим эти векторы покоординатно и построим гистограмму."
   ]
  },
  {
   "cell_type": "code",
   "execution_count": 4,
   "metadata": {
    "scrolled": false
   },
   "outputs": [
    {
     "data": {
      "image/png": "[encoded data removed]",
      "text/plain": [
       "<Figure size 576x432 with 1 Axes>"
      ]
     },
     "metadata": {
      "needs_background": "light"
     },
     "output_type": "display_data"
    }
   ],
   "source": [
    "n = 10\n",
    "k = 10000\n",
    "X = []\n",
    "Y = [0] * k\n",
    "for i in range(n):\n",
    "    vector = np.random.rand(k)\n",
    "    X.append(vector)\n",
    "    Y += vector\n",
    "\n",
    "plt.figure(figsize=(8, 6))\n",
    "plt.title('Распределение суммы случайных величин')\n",
    "plt.hist(Y, 20)\n",
    "plt.show()"
   ]
  },
  {
   "cell_type": "markdown",
   "metadata": {},
   "source": [
    "Видим, что получившаяся гистограмма напоминает график функции плотности нормального распределения. Это ожидаемый результат, который является иллюстрацией центральной предельной теоремы."
   ]
  },
  {
   "cell_type": "markdown",
   "metadata": {},
   "source": [
    "__Задание 3.__ <br>\n",
    "1) Дополните код Монте-Карло последовательности независимых испытаний расчетом соответствующих вероятностей (через биномиальное распределение) и сравните результаты. <br>\n",
    "2) Повторите расчеты биномиальных коэффициентов и вероятностей k успехов в последовательности из n независимых испытаний, взяв другие значения n и k."
   ]
  },
  {
   "cell_type": "markdown",
   "metadata": {},
   "source": [
    "__Решение:__ <br>\n",
    "1) Сначала приведем код, представленный на лекции."
   ]
  },
  {
   "cell_type": "code",
   "execution_count": 5,
   "metadata": {},
   "outputs": [
    {
     "name": "stdout",
     "output_type": "stream",
     "text": [
      "3692 10000 0.3692\n"
     ]
    }
   ],
   "source": [
    "k, n = 0, 10000\n",
    "a = np.random.randint(0, 2, n)\n",
    "b = np.random.randint(0, 2, n)\n",
    "c = np.random.randint(0, 2, n)\n",
    "d = np.random.randint(0, 2, n)\n",
    "x = a + b + c + d\n",
    "for i in range(0, n):\n",
    "    if x[i] == 2:\n",
    "        k = k + 1\n",
    "print(k, n, k/n)"
   ]
  },
  {
   "cell_type": "markdown",
   "metadata": {},
   "source": [
    "Вероятность того, что некое событие $A$ наступит ровно $k$ раз, согласно формуле Бернулли может быть вычислена следующим образом: $P_{n}^{k} = C_{n}^{k}\\cdot p^{k}\\cdot q^{n-k}$. Значит по данной формуле вероятность того, что в четырех испытаниях ровно 2 раза выпадет орел (это одновременно означает, что ровно 2 раза выпадет решка) составляет:\n",
    "### $$P_{n}^{k} = \\frac{4!}{2!2!}\\cdot0.5^2\\cdot0.5^2 = 6 \\cdot 0.5^4 = \\frac{6}{16} = 0.375$$\n",
    "Как видим вероятность, рассчитанная с помощью кода, получилась очень близкой к значению, полученному по формуле."
   ]
  },
  {
   "cell_type": "markdown",
   "metadata": {},
   "source": [
    "2) Перепишем код, отвечающий за реализацию Монте-Карло, в виде функции. Также реализуем в виде кода рассчет формулы Бернулли. В качестве испытаний будем продолжать рассматривать подбрасывание монетки ($p = q = 0.5$)."
   ]
  },
  {
   "cell_type": "code",
   "execution_count": 6,
   "metadata": {},
   "outputs": [],
   "source": [
    "### условимся, что событие 0 - это орел, а 1 - решка\n",
    "### строим функцию вокруг заданного количества выпадения решек\n",
    "\n",
    "def monte_carlo(k, n):\n",
    "    obs, m = 0, 100000\n",
    "    total = [0] * m\n",
    "    \n",
    "    for i in range(n):\n",
    "        total += np.random.randint(0, 2, m)\n",
    "    \n",
    "    for j in range(m):\n",
    "        if total[j] == k:\n",
    "            obs += 1\n",
    "    \n",
    "    return obs/m"
   ]
  },
  {
   "cell_type": "code",
   "execution_count": 7,
   "metadata": {},
   "outputs": [
    {
     "name": "stdout",
     "output_type": "stream",
     "text": [
      "Вероятность, что в 4 испытаниях ровно 2 раза выпадет решка, рассчитанная с помощью Монте-Карло - 0.3774.\n",
      "Вероятность, что в 4 испытаниях ровно 3 раза выпадет решка, рассчитанная с помощью Монте-Карло - 0.2517.\n",
      "Вероятность, что в 5 испытаниях ровно 2 раза выпадет решка, рассчитанная с помощью Монте-Карло - 0.3134.\n",
      "Вероятность, что в 7 испытаниях ровно 3 раза выпадет решка, рассчитанная с помощью Монте-Карло - 0.2728.\n"
     ]
    }
   ],
   "source": [
    "print(f'Вероятность, что в 4 испытаниях ровно 2 раза выпадет решка, рассчитанная с помощью Монте-Карло - '\n",
    "      f'{monte_carlo(2, 4):.4f}.')\n",
    "print(f'Вероятность, что в 4 испытаниях ровно 3 раза выпадет решка, рассчитанная с помощью Монте-Карло - '\n",
    "      f'{monte_carlo(3, 4):.4f}.')\n",
    "print(f'Вероятность, что в 5 испытаниях ровно 2 раза выпадет решка, рассчитанная с помощью Монте-Карло - '\n",
    "      f'{monte_carlo(2, 5):.4f}.')\n",
    "print(f'Вероятность, что в 7 испытаниях ровно 3 раза выпадет решка, рассчитанная с помощью Монте-Карло - '\n",
    "      f'{monte_carlo(3, 7):.4f}.')"
   ]
  },
  {
   "cell_type": "code",
   "execution_count": 8,
   "metadata": {},
   "outputs": [],
   "source": [
    "### Теперь реализуем рассчет по формуле Бернулли\n",
    "def bernoulli(k, n, p=0.5):\n",
    "    coeff = np.math.factorial(n) / (np.math.factorial(k) * np.math.factorial(n-k))\n",
    "    return coeff * (p**k) * ((1-p)**(n-k))"
   ]
  },
  {
   "cell_type": "code",
   "execution_count": 9,
   "metadata": {},
   "outputs": [
    {
     "name": "stdout",
     "output_type": "stream",
     "text": [
      "Вероятность, что в 4 испытаниях ровно 2 раза выпадет решка, рассчитанная с помощью формулы Бернулли - 0.3750.\n",
      "Вероятность, что в 4 испытаниях ровно 3 раза выпадет решка, рассчитанная с помощью формулы Бернулли - 0.2500.\n",
      "Вероятность, что в 5 испытаниях ровно 2 раза выпадет решка, рассчитанная с помощью формулы Бернулли - 0.3125.\n",
      "Вероятность, что в 7 испытаниях ровно 3 раза выпадет решка, рассчитанная с помощью формулы Бернулли - 0.2734.\n"
     ]
    }
   ],
   "source": [
    "print(f'Вероятность, что в 4 испытаниях ровно 2 раза выпадет решка, рассчитанная с помощью формулы Бернулли - '\n",
    "      f'{bernoulli(2, 4):.4f}.')\n",
    "print(f'Вероятность, что в 4 испытаниях ровно 3 раза выпадет решка, рассчитанная с помощью формулы Бернулли - '\n",
    "      f'{bernoulli(3, 4):.4f}.')\n",
    "print(f'Вероятность, что в 5 испытаниях ровно 2 раза выпадет решка, рассчитанная с помощью формулы Бернулли - '\n",
    "      f'{bernoulli(2, 5):.4f}.')\n",
    "print(f'Вероятность, что в 7 испытаниях ровно 3 раза выпадет решка, рассчитанная с помощью формулы Бернулли - '\n",
    "      f'{bernoulli(3, 7):.4f}.')"
   ]
  },
  {
   "cell_type": "markdown",
   "metadata": {},
   "source": [
    "Как видим вероятности, рассчитанные разными методами, очень близки."
   ]
  },
  {
   "cell_type": "markdown",
   "metadata": {},
   "source": [
    "__Задание 4.__ (не обязательно, но желательно) Из урока по комбинаторике повторите расчеты, сгенерировав возможные варианты перестановок для других значений n и k"
   ]
  },
  {
   "cell_type": "markdown",
   "metadata": {},
   "source": [
    "__Решение:__ <br>\n",
    "Перестановками называются такие размещения, для которых $n = k$. Тогда число перестановок считается по формуле $n!$. Реализуем на Питоне."
   ]
  },
  {
   "cell_type": "code",
   "execution_count": 10,
   "metadata": {},
   "outputs": [
    {
     "name": "stdout",
     "output_type": "stream",
     "text": [
      "01234\n",
      "01243\n",
      "01324\n",
      "01342\n",
      "01423\n",
      "01432\n",
      "02134\n",
      "02143\n",
      "02314\n",
      "02341\n",
      "02413\n",
      "02431\n",
      "03124\n",
      "03142\n",
      "03214\n",
      "03241\n",
      "03412\n",
      "03421\n",
      "04123\n",
      "04132\n",
      "04213\n",
      "04231\n",
      "04312\n",
      "04321\n",
      "10234\n",
      "10243\n",
      "10324\n",
      "10342\n",
      "10423\n",
      "10432\n",
      "12034\n",
      "12043\n",
      "12304\n",
      "12340\n",
      "12403\n",
      "12430\n",
      "13024\n",
      "13042\n",
      "13204\n",
      "13240\n",
      "13402\n",
      "13420\n",
      "14023\n",
      "14032\n",
      "14203\n",
      "14230\n",
      "14302\n",
      "14320\n",
      "20134\n",
      "20143\n",
      "20314\n",
      "20341\n",
      "20413\n",
      "20431\n",
      "21034\n",
      "21043\n",
      "21304\n",
      "21340\n",
      "21403\n",
      "21430\n",
      "23014\n",
      "23041\n",
      "23104\n",
      "23140\n",
      "23401\n",
      "23410\n",
      "24013\n",
      "24031\n",
      "24103\n",
      "24130\n",
      "24301\n",
      "24310\n",
      "30124\n",
      "30142\n",
      "30214\n",
      "30241\n",
      "30412\n",
      "30421\n",
      "31024\n",
      "31042\n",
      "31204\n",
      "31240\n",
      "31402\n",
      "31420\n",
      "32014\n",
      "32041\n",
      "32104\n",
      "32140\n",
      "32401\n",
      "32410\n",
      "34012\n",
      "34021\n",
      "34102\n",
      "34120\n",
      "34201\n",
      "34210\n",
      "40123\n",
      "40132\n",
      "40213\n",
      "40231\n",
      "40312\n",
      "40321\n",
      "41023\n",
      "41032\n",
      "41203\n",
      "41230\n",
      "41302\n",
      "41320\n",
      "42013\n",
      "42031\n",
      "42103\n",
      "42130\n",
      "42301\n",
      "42310\n",
      "43012\n",
      "43021\n",
      "43102\n",
      "43120\n",
      "43201\n",
      "43210\n",
      "Общее число перестановок для заданной длины 5 - 120.\n"
     ]
    }
   ],
   "source": [
    "n = 5\n",
    "\n",
    "s = ''\n",
    "l = 0\n",
    "for i in range(n):\n",
    "    s += str(i)\n",
    "    \n",
    "for p in itertools.permutations(s, n):\n",
    "    print(''.join(str(x) for x in p))\n",
    "    l += 1\n",
    "\n",
    "print(f'Общее число перестановок для заданной длины {n} - {l}.')"
   ]
  },
  {
   "cell_type": "code",
   "execution_count": 11,
   "metadata": {},
   "outputs": [
    {
     "data": {
      "text/plain": [
       "120"
      ]
     },
     "execution_count": 11,
     "metadata": {},
     "output_type": "execute_result"
    }
   ],
   "source": [
    "np.math.factorial(n)"
   ]
  },
  {
   "cell_type": "markdown",
   "metadata": {},
   "source": [
    "Как видим, значение, рассчитанное по формуле, совпадает с общим количеством перестановок, посчитанных с помощью модуля `itertools`."
   ]
  },
  {
   "cell_type": "markdown",
   "metadata": {},
   "source": [
    "__Задание 5.__ (не обязательно) Дополните код расчетом коэффициента корреляции x и y по формуле\n",
    "### $$R = \\frac{\\sum{(x_{i} - x_{m})(y_{i} - y_{m})}}{\\sqrt{\\sum{(x_{i} - x_{m})^2 \\sum{(y_{i} - y_{m})^2}}}}$$"
   ]
  },
  {
   "cell_type": "markdown",
   "metadata": {},
   "source": [
    "__Решение:__ <br>\n",
    "Воспользуемся кодом, представленным на занятии, добавив расчет коэффициента корреляции."
   ]
  },
  {
   "cell_type": "code",
   "execution_count": 12,
   "metadata": {},
   "outputs": [
    {
     "name": "stdout",
     "output_type": "stream",
     "text": [
      "Коэффициенты, рассчитанные вручную - (0.6371855051355841, 0.19110062195564395)\n",
      "Коэффициенты, рассчитанные с помощью библиотеки Numpy - (0.6371855051355837, 0.19110062195564398)\n",
      "Коэффициент корреляции, рассчитанный вручную - 0.892614\n",
      "Коэффициент корреляции, рассчитанный с помощью библиотеки Numpy - 0.892614\n"
     ]
    },
    {
     "data": {
      "image/png": "[encoded data removed]",
      "text/plain": [
       "<Figure size 432x288 with 1 Axes>"
      ]
     },
     "metadata": {
      "needs_background": "light"
     },
     "output_type": "display_data"
    }
   ],
   "source": [
    "n = 100\n",
    "r = 0.7\n",
    "x = np.random.rand(n)\n",
    "y = r*x + (1 - r)*np.random.rand(n)\n",
    "plt.plot(x, y, 'o')\n",
    "plt.xlabel('x')\n",
    "plt.ylabel('y')\n",
    "plt.grid(True)\n",
    "\n",
    "a = (np.sum(x)*np.sum(y) - n*np.sum(x*y))/(np.sum(x)*np.sum(x) - n*np.sum(x*x))\n",
    "b = (np.sum(y) - a*np.sum(x))/n\n",
    "\n",
    "A = np.vstack([x, np.ones(len(x))]).T\n",
    "a1, b1 = np.linalg.lstsq(A, y, rcond=None)[0]\n",
    "print(f'Коэффициенты, рассчитанные вручную - {a, b}')\n",
    "print(f'Коэффициенты, рассчитанные с помощью библиотеки Numpy - {a1, b1}')\n",
    "\n",
    "### Расчет коэффициента корреляции по формуле\n",
    "cor_coeff = (np.sum(x * y) - np.sum(x) * np.sum(y) / n) / \\\n",
    "            np.sqrt((np.sum((x - np.sum(x)/n) ** 2) * (np.sum((y - np.sum(y)/n) ** 2))))\n",
    "\n",
    "print(f'Коэффициент корреляции, рассчитанный вручную - {cor_coeff:.6f}')\n",
    "print(f'Коэффициент корреляции, рассчитанный с помощью библиотеки Numpy - {np.corrcoef(x, y)[0, 1]:.6f}')\n",
    "\n",
    "\n",
    "plt.plot([0, 1], [b, a + b])\n",
    "plt.show()"
   ]
  }
 ],
 "metadata": {
  "kernelspec": {
   "display_name": "Python 3",
   "language": "python",
   "name": "python3"
  },
  "language_info": {
   "codemirror_mode": {
    "name": "ipython",
    "version": 3
   },
   "file_extension": ".py",
   "mimetype": "text/x-python",
   "name": "python",
   "nbconvert_exporter": "python",
   "pygments_lexer": "ipython3",
   "version": "3.8.12"
  }
 },
 "nbformat": 4,
 "nbformat_minor": 4
}
