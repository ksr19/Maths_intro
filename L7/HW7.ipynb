{
 "cells": [
  {
   "cell_type": "markdown",
   "metadata": {},
   "source": [
    "## Урок 7. Домашнее задание"
   ]
  },
  {
   "cell_type": "code",
   "execution_count": 1,
   "metadata": {},
   "outputs": [],
   "source": [
    "import numpy as np\n",
    "from scipy.linalg import lu\n",
    "from matplotlib import pyplot as plt"
   ]
  },
  {
   "cell_type": "markdown",
   "metadata": {},
   "source": [
    "### Введение в линейную алгебру"
   ]
  },
  {
   "cell_type": "markdown",
   "metadata": {},
   "source": [
    "__Задание 5.1.__ \n",
    "\n",
    "1) Вектор – это частный случай матрицы 1хN и Nх1. Повторите материал для векторов, уделяя особое внимание умножению A∙B.\n",
    "\n",
    "\n",
    "2) Вычислите, по возможности не используя программирование: $(5E)^{-1}$ где Е – единичная матрица размера 5х5."
   ]
  },
  {
   "cell_type": "markdown",
   "metadata": {},
   "source": [
    "__Решение:__ <br>\n",
    "1) Зададим два вектора и проверим для них основные свойства матриц."
   ]
  },
  {
   "cell_type": "code",
   "execution_count": 2,
   "metadata": {},
   "outputs": [
    {
     "name": "stdout",
     "output_type": "stream",
     "text": [
      "[1 5 9 2]\n",
      "[4 8 1 3]\n"
     ]
    }
   ],
   "source": [
    "a = np.array([1, 5, 9, 2])\n",
    "b = np.array([4, 8, 1, 3])\n",
    "\n",
    "print(a)\n",
    "print(b)"
   ]
  },
  {
   "cell_type": "markdown",
   "metadata": {},
   "source": [
    "Умножение на число:"
   ]
  },
  {
   "cell_type": "code",
   "execution_count": 3,
   "metadata": {},
   "outputs": [
    {
     "name": "stdout",
     "output_type": "stream",
     "text": [
      "[ 3 15 27  6]\n",
      "[12 24  3  9]\n"
     ]
    }
   ],
   "source": [
    "k = 3\n",
    "\n",
    "print(a * k)\n",
    "print(b * k)"
   ]
  },
  {
   "cell_type": "markdown",
   "metadata": {},
   "source": [
    "Сложение и вычитание:"
   ]
  },
  {
   "cell_type": "code",
   "execution_count": 4,
   "metadata": {},
   "outputs": [
    {
     "name": "stdout",
     "output_type": "stream",
     "text": [
      "[ 5 13 10  5]\n",
      "[-3 -3  8 -1]\n"
     ]
    }
   ],
   "source": [
    "print(a + b)\n",
    "print(a - b)"
   ]
  },
  {
   "cell_type": "markdown",
   "metadata": {},
   "source": [
    "Транспонирование вектора-строки может быть произведено следующим образом с помощью библиотеки NumPy:"
   ]
  },
  {
   "cell_type": "code",
   "execution_count": 5,
   "metadata": {},
   "outputs": [
    {
     "name": "stdout",
     "output_type": "stream",
     "text": [
      "[[1]\n",
      " [5]\n",
      " [9]\n",
      " [2]]\n"
     ]
    }
   ],
   "source": [
    "print(a.reshape(-1, 1))"
   ]
  },
  {
   "cell_type": "markdown",
   "metadata": {},
   "source": [
    "Умножение векторов:"
   ]
  },
  {
   "cell_type": "markdown",
   "metadata": {},
   "source": [
    "- Скалярное произведение"
   ]
  },
  {
   "cell_type": "code",
   "execution_count": 6,
   "metadata": {},
   "outputs": [
    {
     "data": {
      "text/plain": [
       "59"
      ]
     },
     "execution_count": 6,
     "metadata": {},
     "output_type": "execute_result"
    }
   ],
   "source": [
    "np.dot(a, b)"
   ]
  },
  {
   "cell_type": "code",
   "execution_count": 7,
   "metadata": {},
   "outputs": [
    {
     "data": {
      "text/plain": [
       "59"
      ]
     },
     "execution_count": 7,
     "metadata": {},
     "output_type": "execute_result"
    }
   ],
   "source": [
    "np.inner(a, b)"
   ]
  },
  {
   "cell_type": "markdown",
   "metadata": {},
   "source": [
    "- Матричное произведение:"
   ]
  },
  {
   "cell_type": "code",
   "execution_count": 8,
   "metadata": {
    "scrolled": true
   },
   "outputs": [
    {
     "name": "stdout",
     "output_type": "stream",
     "text": [
      "[[ 4  8  1  3]\n",
      " [20 40  5 15]\n",
      " [36 72  9 27]\n",
      " [ 8 16  2  6]]\n"
     ]
    }
   ],
   "source": [
    "print(a.reshape(-1, 1) * b)"
   ]
  },
  {
   "cell_type": "code",
   "execution_count": 9,
   "metadata": {},
   "outputs": [
    {
     "name": "stdout",
     "output_type": "stream",
     "text": [
      "[[ 4  8  1  3]\n",
      " [20 40  5 15]\n",
      " [36 72  9 27]\n",
      " [ 8 16  2  6]]\n"
     ]
    }
   ],
   "source": [
    "print(np.outer(a, b))"
   ]
  },
  {
   "cell_type": "markdown",
   "metadata": {},
   "source": [
    "Проверим также свойства сложения и умножения матриц для векторов:"
   ]
  },
  {
   "cell_type": "markdown",
   "metadata": {},
   "source": [
    "### $(k \\cdot l) \\cdot A = k \\cdot (l \\cdot A)$"
   ]
  },
  {
   "cell_type": "code",
   "execution_count": 10,
   "metadata": {},
   "outputs": [
    {
     "name": "stdout",
     "output_type": "stream",
     "text": [
      "[ 6 30 54 12]\n",
      "[ 6 30 54 12]\n"
     ]
    }
   ],
   "source": [
    "k = 2\n",
    "l = 3\n",
    "print((k * l) * a)\n",
    "print(k * (l * a))"
   ]
  },
  {
   "cell_type": "markdown",
   "metadata": {},
   "source": [
    "### $k \\cdot (A+B) = k \\cdot A + k \\cdot B $"
   ]
  },
  {
   "cell_type": "code",
   "execution_count": 11,
   "metadata": {},
   "outputs": [
    {
     "name": "stdout",
     "output_type": "stream",
     "text": [
      "[10 26 20 10]\n",
      "[10 26 20 10]\n"
     ]
    }
   ],
   "source": [
    "print(k * (a + b))\n",
    "print(k * a + k * b)"
   ]
  },
  {
   "cell_type": "markdown",
   "metadata": {},
   "source": [
    "### $(k+l) \\cdot A = k \\cdot A + l \\cdot A $"
   ]
  },
  {
   "cell_type": "code",
   "execution_count": 12,
   "metadata": {
    "scrolled": true
   },
   "outputs": [
    {
     "name": "stdout",
     "output_type": "stream",
     "text": [
      "[ 5 25 45 10]\n",
      "[ 5 25 45 10]\n"
     ]
    }
   ],
   "source": [
    "print((k + l) * a)\n",
    "print(k * a + l * a)"
   ]
  },
  {
   "cell_type": "markdown",
   "metadata": {},
   "source": [
    "Следующие свойства проверим для матричного произведения векторов:"
   ]
  },
  {
   "cell_type": "markdown",
   "metadata": {},
   "source": [
    "### $(A \\cdot B) \\cdot C = A \\cdot (B \\cdot C) $"
   ]
  },
  {
   "cell_type": "code",
   "execution_count": 13,
   "metadata": {},
   "outputs": [
    {
     "name": "stdout",
     "output_type": "stream",
     "text": [
      "[[ 12  24   3   9]\n",
      " [100 200  25  75]\n",
      " [144 288  36 108]\n",
      " [  8  16   2   6]]\n",
      "----------------------\n",
      "[[ 12  24   3   9]\n",
      " [100 200  25  75]\n",
      " [144 288  36 108]\n",
      " [  8  16   2   6]]\n"
     ]
    }
   ],
   "source": [
    "c = np.array([3, 5, 4, 1])\n",
    "\n",
    "print((a.reshape(-1, 1) * b.reshape(1, -1)) * c.reshape(-1, 1))\n",
    "print('----------------------')\n",
    "print(a.reshape(-1, 1) * (b.reshape(1, -1) * c.reshape(-1, 1)))"
   ]
  },
  {
   "cell_type": "markdown",
   "metadata": {},
   "source": [
    "### $(A + B) \\cdot C = A \\cdot C + B \\cdot C $"
   ]
  },
  {
   "cell_type": "code",
   "execution_count": 14,
   "metadata": {},
   "outputs": [
    {
     "name": "stdout",
     "output_type": "stream",
     "text": [
      "[[15 25 20  5]\n",
      " [39 65 52 13]\n",
      " [30 50 40 10]\n",
      " [15 25 20  5]]\n",
      "----------------------\n",
      "[[15 25 20  5]\n",
      " [39 65 52 13]\n",
      " [30 50 40 10]\n",
      " [15 25 20  5]]\n"
     ]
    }
   ],
   "source": [
    "print(np.outer(a + b, c))\n",
    "print('----------------------')\n",
    "print(np.outer(a,c) + np.outer(b, c))"
   ]
  },
  {
   "cell_type": "markdown",
   "metadata": {},
   "source": [
    "### $A \\cdot (B + C) = A \\cdot B + A \\cdot C $"
   ]
  },
  {
   "cell_type": "code",
   "execution_count": 15,
   "metadata": {},
   "outputs": [
    {
     "name": "stdout",
     "output_type": "stream",
     "text": [
      "[[  7  13   5   4]\n",
      " [ 35  65  25  20]\n",
      " [ 63 117  45  36]\n",
      " [ 14  26  10   8]]\n",
      "----------------------\n",
      "[[  7  13   5   4]\n",
      " [ 35  65  25  20]\n",
      " [ 63 117  45  36]\n",
      " [ 14  26  10   8]]\n"
     ]
    }
   ],
   "source": [
    "print(np.outer(a, b + c))\n",
    "print('----------------------')\n",
    "print(np.outer(a,b) + np.outer(a, c))"
   ]
  },
  {
   "cell_type": "markdown",
   "metadata": {},
   "source": [
    "2) Так как $E$ - единичная матрица, то матрица $5E$ - будет диагональной матрицей, у которой на главной диагонали стоят пятерки. Отметим, что согласно определению обратной матрицы: $5E \\cdot (5E)^{-1} = E$. Пользуюсь свойствами умножения матриц может преобразовать это выражение следующим образом:\n",
    "### $$\\frac{1}{5}\\cdot5E\\cdot (5E)^{-1} = \\frac{1}{5}E \\Rightarrow E\\cdot (5E)^{-1} = \\frac{1}{5}E$$\n",
    "Домножим обе части слева на $E^{-1}$:\n",
    "### $$E^{-1}E\\cdot(5E)^{-1}=\\frac{1}{5}E^{-1}E$$\n",
    "По определению это означает, что \n",
    "### $$E^{-1}\\cdot(5E)^{-1}=\\frac{1}{5}E^{-1}$$\n",
    "Это подтверждает факт, что $E^{-1} = E$, а значит $(5E)^{-1} = \\frac{1}{5}E$. Проверим полученный результат, умножив ее на исходную матрицу:\n",
    "### $$5E\\cdot\\frac{1}{5}E=E\\cdot E = E$$\n",
    "Проверка пройдена успешно:\n",
    "### $$(5E)^{-1} = \\frac{1}{5}E$$"
   ]
  },
  {
   "cell_type": "markdown",
   "metadata": {},
   "source": [
    "__Задание 5.2.__ Вычислите определитель:\n",
    "### $$\\begin{vmatrix}\n",
    "1 & 2 & 3\\\\ \n",
    "4 & 0 & 6\\\\\n",
    "7 & 8 & 9\n",
    "\\end{vmatrix}$$"
   ]
  },
  {
   "cell_type": "markdown",
   "metadata": {},
   "source": [
    "__Решение:__"
   ]
  },
  {
   "cell_type": "markdown",
   "metadata": {},
   "source": [
    "### $$\\begin{vmatrix}\n",
    "1 & 2 & 3\\\\ \n",
    "4 & 0 & 6\\\\\n",
    "7 & 8 & 9\n",
    "\\end{vmatrix} = 1 \\cdot \\begin{vmatrix}\n",
    "0 & 6 \\\\ \n",
    "8 & 9\n",
    "\\end{vmatrix} - 2 \\cdot \\begin{vmatrix}\n",
    "4 & 6 \\\\ \n",
    "7 & 9\n",
    "\\end{vmatrix} + 3 \\cdot \\begin{vmatrix}\n",
    "4 & 0 \\\\ \n",
    "7 & 8\n",
    "\\end{vmatrix} $$ \n",
    "### $$\\begin{vmatrix}\n",
    "1 & 2 & 3\\\\ \n",
    "4 & 0 & 6\\\\\n",
    "7 & 8 & 9\n",
    "\\end{vmatrix} = 1\\cdot(0-48) - 2\\cdot(36-42)+3\\cdot(32-0)=-48+12+96 = 60$$ "
   ]
  },
  {
   "cell_type": "code",
   "execution_count": 16,
   "metadata": {},
   "outputs": [
    {
     "data": {
      "text/plain": [
       "60.0"
      ]
     },
     "execution_count": 16,
     "metadata": {},
     "output_type": "execute_result"
    }
   ],
   "source": [
    "A  = np.array([[1, 2, 3], \n",
    "               [4, 0, 6], \n",
    "               [7, 8, 9]])\n",
    "round(np.linalg.det(A), 2)"
   ]
  },
  {
   "cell_type": "markdown",
   "metadata": {},
   "source": [
    "__Задание 5.3.__ \n",
    "1. Вычислите матрицу, обратную данной:\n",
    "### $$\\begin{vmatrix}\n",
    "1 & 2 & 3\\\\ \n",
    "4 & 0 & 6\\\\\n",
    "7 & 8 & 9\n",
    "\\end{vmatrix}$$\n",
    "2. Приведите пример матрицы 4x4, ранг которой равен 1."
   ]
  },
  {
   "cell_type": "markdown",
   "metadata": {},
   "source": [
    "__Решение:__ <br>\n",
    "1. Обозначим данную матрицу как $A$. Как мы выяснили в предыдущем задании данная матрица имеет ненулевой определитель ($det A = 60$),  а значит для нее существует обратная матрица. Построим матрицу алгебраических дополнений $A_{*}$ на основе определителей миноров:\n",
    "### $$a_{*11} = \\begin{vmatrix}\n",
    "0 & 6\\\\ \n",
    "8 & 9\n",
    "\\end{vmatrix} = -48$$\n",
    "### $$a_{*12} = -\\begin{vmatrix}\n",
    "4 & 6\\\\ \n",
    "7 & 9\n",
    "\\end{vmatrix} = 6$$\n",
    "### $$a_{*13} = \\begin{vmatrix}\n",
    "4 & 0\\\\ \n",
    "7 & 8\n",
    "\\end{vmatrix} = 32$$\n",
    "### $$a_{*21} = -\\begin{vmatrix}\n",
    "2 & 3\\\\ \n",
    "8 & 9\n",
    "\\end{vmatrix} = 6$$\n",
    "### $$a_{*22} = \\begin{vmatrix}\n",
    "1 & 3\\\\ \n",
    "7 & 9\n",
    "\\end{vmatrix} = -12$$\n",
    "### $$a_{*23} = -\\begin{vmatrix}\n",
    "1 & 2\\\\ \n",
    "7 & 8\n",
    "\\end{vmatrix} = 6$$\n",
    "### $$a_{*31} = \\begin{vmatrix}\n",
    "2 & 3\\\\ \n",
    "0 & 6\n",
    "\\end{vmatrix} = 12$$\n",
    "### $$a_{*32} = -\\begin{vmatrix}\n",
    "1 & 3\\\\ \n",
    "4 & 6\n",
    "\\end{vmatrix} = 6$$\n",
    "### $$a_{*33} = \\begin{vmatrix}\n",
    "1 & 2\\\\ \n",
    "4 & 0\n",
    "\\end{vmatrix} = -8$$\n",
    "Тогда, \n",
    "### $$A_{*} = \\begin{vmatrix}\n",
    "-48 & 6 & 32 \\\\ \n",
    "6 & -12 & 6 \\\\\n",
    "12 & 6 & -8 \n",
    "\\end{vmatrix} $$\n",
    "### $$A^{-1} = \\frac{A_{*}^{T}}{det A} = \\begin{vmatrix}\n",
    "-0.8 & 0.1 & 0.2 \\\\ \n",
    "0.1 & -0.2 & 0.1 \\\\\n",
    "0.53 & 0.1 & -0.13\n",
    "\\end{vmatrix}$$"
   ]
  },
  {
   "cell_type": "markdown",
   "metadata": {},
   "source": [
    "Сравним с матрицей, которую можно получить с помощью библиотеки NumPy."
   ]
  },
  {
   "cell_type": "code",
   "execution_count": 17,
   "metadata": {},
   "outputs": [
    {
     "data": {
      "text/plain": [
       "array([[-0.8       ,  0.1       ,  0.2       ],\n",
       "       [ 0.1       , -0.2       ,  0.1       ],\n",
       "       [ 0.53333333,  0.1       , -0.13333333]])"
      ]
     },
     "execution_count": 17,
     "metadata": {},
     "output_type": "execute_result"
    }
   ],
   "source": [
    "np.linalg.inv(A)"
   ]
  },
  {
   "cell_type": "markdown",
   "metadata": {},
   "source": [
    "2. Ранг матрицы, у которой все строки кроме первой будут равны произведению первой на какое-либо число (для разных строк могут быть разные числа) будет равен 1. Пример:\n",
    "### $$B = \\begin{vmatrix}\n",
    "1 & 2 & 3 & 4 \\\\ \n",
    "2 & 4 & 6 & 8 \\\\\n",
    "3 & 6 & 9 & 12 \\\\\n",
    "4 & 8 & 12 & 16 \n",
    "\\end{vmatrix} $$"
   ]
  },
  {
   "cell_type": "code",
   "execution_count": 18,
   "metadata": {},
   "outputs": [
    {
     "data": {
      "text/plain": [
       "1"
      ]
     },
     "execution_count": 18,
     "metadata": {},
     "output_type": "execute_result"
    }
   ],
   "source": [
    "B = np.array([[1, 2, 3, 4], \n",
    "              [2, 4, 6, 8], \n",
    "              [3, 6, 9, 12], \n",
    "              [4, 8, 12, 16]])\n",
    "np.linalg.matrix_rank(B)"
   ]
  },
  {
   "cell_type": "markdown",
   "metadata": {},
   "source": [
    "__Задание 5.4.__ Вычислите скалярное произведение двух векторов: (1, 5)  и  (2, 8)"
   ]
  },
  {
   "cell_type": "markdown",
   "metadata": {},
   "source": [
    "__Решение:__"
   ]
  },
  {
   "cell_type": "code",
   "execution_count": 19,
   "metadata": {},
   "outputs": [
    {
     "name": "stdout",
     "output_type": "stream",
     "text": [
      "Скалярное произведение векторов [1 5] и [2 8] равно 42.\n"
     ]
    }
   ],
   "source": [
    "a = np.array([1, 5])\n",
    "b = np.array([2, 8])\n",
    "print(f'Скалярное произведение векторов {a} и {b} равно {np.inner(a, b)}.')"
   ]
  },
  {
   "cell_type": "markdown",
   "metadata": {},
   "source": [
    "### $$(\\vec a \\cdot \\vec b) = 1 \\cdot 2 + 5\\cdot8 = 42$$"
   ]
  },
  {
   "cell_type": "markdown",
   "metadata": {},
   "source": [
    "Дополнительно визуализируем векторы на графике."
   ]
  },
  {
   "cell_type": "code",
   "execution_count": 20,
   "metadata": {},
   "outputs": [
    {
     "data": {
      "image/png": "[encoded data removed]",
      "text/plain": [
       "<Figure size 432x288 with 1 Axes>"
      ]
     },
     "metadata": {
      "needs_background": "light"
     },
     "output_type": "display_data"
    }
   ],
   "source": [
    "a = np.array([1, 5], float)\n",
    "b = np.array([2, 8], float)\n",
    "X, Y = np.array([0, 0]), np.array([0, 0])\n",
    "U, V = np.array([a[0], b[0]]), np.array([a[1], b[1]])\n",
    "\n",
    "plt.quiver(X, Y, U, V, angles='xy', scale_units='xy', scale=1)\n",
    "\n",
    "plt.xlim(-1, 5)\n",
    "plt.ylim(-1, 9)\n",
    "plt.grid(True)\n",
    "plt.show()"
   ]
  },
  {
   "cell_type": "markdown",
   "metadata": {},
   "source": [
    "__Задание 5.5.__  Вычислите смешанное произведение трех векторов:\n",
    "(1, 5, 0), (2, 8, 7) и (7, 1.5, 3)."
   ]
  },
  {
   "cell_type": "markdown",
   "metadata": {},
   "source": [
    "__Решение:__ "
   ]
  },
  {
   "cell_type": "code",
   "execution_count": 21,
   "metadata": {},
   "outputs": [
    {
     "data": {
      "text/plain": [
       "228.5"
      ]
     },
     "execution_count": 21,
     "metadata": {},
     "output_type": "execute_result"
    }
   ],
   "source": [
    "a = np.array([1, 5, 0])\n",
    "b = np.array([2, 8, 7])\n",
    "c = np.array([7, 1.5, 3])\n",
    "v = np.inner(np.cross(a, b), c)\n",
    "v"
   ]
  },
  {
   "cell_type": "markdown",
   "metadata": {},
   "source": [
    "### $$V = \\begin{vmatrix}\n",
    "1 & 5 & 0 \\\\ \n",
    "2 & 8 & 7 \\\\\n",
    "7 & 1.5 & 3 \n",
    "\\end{vmatrix} = \\begin{vmatrix}\n",
    "8 & 7 \\\\ \n",
    "1.5 & 3 \n",
    "\\end{vmatrix} - 5\\cdot \\begin{vmatrix}\n",
    "2 & 7 \\\\ \n",
    "7 & 3 \n",
    "\\end{vmatrix} + 0\\cdot \\begin{vmatrix}\n",
    "2 & 8 \\\\ \n",
    "7 & 1.5 \n",
    "\\end{vmatrix} = 13.5 + 5\\cdot43 = 228.5$$"
   ]
  },
  {
   "cell_type": "code",
   "execution_count": 22,
   "metadata": {},
   "outputs": [
    {
     "data": {
      "text/plain": [
       "228.5"
      ]
     },
     "execution_count": 22,
     "metadata": {},
     "output_type": "execute_result"
    }
   ],
   "source": [
    "C = np.array([[1, 5, 0], \n",
    "              [2, 8, 7], \n",
    "              [7, 1.5, 3]])\n",
    "round(np.linalg.det(C), 2)"
   ]
  },
  {
   "cell_type": "markdown",
   "metadata": {},
   "source": [
    "### Системы линейных алгебраических уравнений"
   ]
  },
  {
   "cell_type": "markdown",
   "metadata": {},
   "source": [
    "__Задание 6.1.__ Решите линейную систему:\n",
    "### $$\\begin{bmatrix}\n",
    "1 & 2 & 3 \\\\ \n",
    "4 & 0 & 6 \\\\\n",
    "7 & 8 & 9 \n",
    "\\end{bmatrix} \\cdot X = \\begin{bmatrix}\n",
    "12 \\\\ \n",
    "2 \\\\\n",
    "1\n",
    "\\end{bmatrix}$$"
   ]
  },
  {
   "cell_type": "markdown",
   "metadata": {},
   "source": [
    "__Решение:__ <br>\n",
    "Если мы запишем систему в матричном виде, то решение можно выразить следующим образом\n",
    "### $$A \\cdot X = B \\Rightarrow X = A^{-1}\\cdot B$$\n",
    "В задании 5.3 мы уже нашли матрицу $A^{-1}$ воспользуемся этим для решения системы:\n",
    "### $$X = \\begin{pmatrix}\n",
    "-0.8 & 0.1 & 0.2 \\\\ \n",
    "0.1 & -0.2 & 0.1 \\\\\n",
    "0.53 & 0.1 & -0.13\n",
    "\\end{pmatrix} \\cdot \\begin{pmatrix}\n",
    "12 \\\\ \n",
    "2\\\\\n",
    "1\n",
    "\\end{pmatrix} = \\begin{pmatrix}\n",
    "-9.2 \\\\ \n",
    "0.9\\\\\n",
    "6.47\n",
    "\\end{pmatrix}$$"
   ]
  },
  {
   "cell_type": "code",
   "execution_count": 23,
   "metadata": {},
   "outputs": [
    {
     "data": {
      "text/plain": [
       "array([-9.2       ,  0.9       ,  6.46666667])"
      ]
     },
     "execution_count": 23,
     "metadata": {},
     "output_type": "execute_result"
    }
   ],
   "source": [
    "B = np.array([12, 2, 1])\n",
    "np.linalg.solve(A, B)"
   ]
  },
  {
   "cell_type": "markdown",
   "metadata": {},
   "source": [
    "__Задание 6.2.__ Найдите псевдорешение:\n",
    "### $$\\left\\{\n",
    "\\begin{array}{ll}\n",
    "  x + 2y - z = 1, \\\\\n",
    "  3x - 4y = 7, \\\\\n",
    "  8x - 5y + 2z = 12, \\\\\n",
    "  2x - 5z = 7, \\\\\n",
    "  11x + 4y - 7z = 15.\n",
    "\\end{array} \\right.$$"
   ]
  },
  {
   "cell_type": "markdown",
   "metadata": {},
   "source": [
    "__Решение:__ Воспользуемся встроенным в NumPy оптимизационным алгоритмом для нахождения псевдорешения данной переопределенной системы:"
   ]
  },
  {
   "cell_type": "code",
   "execution_count": 24,
   "metadata": {},
   "outputs": [
    {
     "data": {
      "text/plain": [
       "(array([ 1.13919353, -0.90498444, -0.9009803 ]),\n",
       " array([0.71523211]),\n",
       " 3,\n",
       " array([15.2817306 ,  9.59852942,  3.65197794]))"
      ]
     },
     "execution_count": 24,
     "metadata": {},
     "output_type": "execute_result"
    }
   ],
   "source": [
    "A = np.array([[1, 2, -1], \n",
    "              [3, -4, 0], \n",
    "              [8, -5, 2], \n",
    "              [2, 0, -5], \n",
    "              [11, 4, -7]])\n",
    "B = np.array([1, 7, 12, 7, 15])\n",
    "X, res, rank, s  = np.linalg.lstsq(A, B, rcond=-1)\n",
    "np.linalg.lstsq(A, B, rcond=-1)"
   ]
  },
  {
   "cell_type": "markdown",
   "metadata": {},
   "source": [
    "Таким образом псевдорешением данной системы является следующий вектор:"
   ]
  },
  {
   "cell_type": "code",
   "execution_count": 25,
   "metadata": {},
   "outputs": [
    {
     "name": "stdout",
     "output_type": "stream",
     "text": [
      "[ 1.13919353 -0.90498444 -0.9009803 ]\n"
     ]
    }
   ],
   "source": [
    "print(X)"
   ]
  },
  {
   "cell_type": "markdown",
   "metadata": {},
   "source": [
    "Зная это можно построить расчетный вектор $\\hat{B}$ для данного решения:"
   ]
  },
  {
   "cell_type": "code",
   "execution_count": 26,
   "metadata": {},
   "outputs": [
    {
     "data": {
      "text/plain": [
       "array([ 0.23020495,  7.03751834, 11.83650981,  6.78328855, 15.21805313])"
      ]
     },
     "execution_count": 26,
     "metadata": {},
     "output_type": "execute_result"
    }
   ],
   "source": [
    "A @ X"
   ]
  },
  {
   "cell_type": "markdown",
   "metadata": {},
   "source": [
    "__Задание 6.3__ Сколько решений имеет линейная система:\n",
    "### $$\\begin{bmatrix}\n",
    "1 & 2 & 3 \\\\ \n",
    "4 & 5 & 6 \\\\\n",
    "7 & 8 & 9 \n",
    "\\end{bmatrix} \\cdot X = \\begin{bmatrix}\n",
    "12 \\\\ \n",
    "2 \\\\\n",
    "1\n",
    "\\end{bmatrix}$$\n",
    "Если ноль - то измените вектор правой части так, чтобы система стала совместной, и решите ее."
   ]
  },
  {
   "cell_type": "markdown",
   "metadata": {},
   "source": [
    "__Решение:__ <br>\n",
    "Легко заметить, что матрица в левой части уравнения имеет ранг 2, так как последнюю строку можно выразить через первые две (из удвоенной второй вычесть первую)."
   ]
  },
  {
   "cell_type": "code",
   "execution_count": 27,
   "metadata": {},
   "outputs": [
    {
     "data": {
      "text/plain": [
       "(2, 3)"
      ]
     },
     "execution_count": 27,
     "metadata": {},
     "output_type": "execute_result"
    }
   ],
   "source": [
    "A  = np.array([[1, 2, 3], \n",
    "               [4, 5, 6], \n",
    "               [7, 8, 9]])\n",
    "B = np.array([[12, 2, 1]])\n",
    "C = np.concatenate((A, B.T), axis=1)\n",
    "\n",
    "np.linalg.matrix_rank(A), np.linalg.matrix_rank(C) "
   ]
  },
  {
   "cell_type": "markdown",
   "metadata": {},
   "source": [
    "Как видим ранги основной матрицы $A$ и расширенной матрицы $C$ не совпадают, а значит система является несовместной, то есть _не имеет решений_. Для того, чтобы система стала совместной нам нужно изменить вектор $B$ таким образом, чтобы ранг расширенной матрицы также стал равен 2. Тогда представленная система будет иметь бесконечное множество решений, так как ранг матриц будет меньше количества неизвестных. Воспользуемся наблюдением относительно того, как третья строка основной матрицы может быть выражена через первые две, и изменим последнюю координату вектора $B$."
   ]
  },
  {
   "cell_type": "code",
   "execution_count": 28,
   "metadata": {},
   "outputs": [
    {
     "data": {
      "text/plain": [
       "(2, 2)"
      ]
     },
     "execution_count": 28,
     "metadata": {},
     "output_type": "execute_result"
    }
   ],
   "source": [
    "B = np.array([[12, 2, -8]])\n",
    "C = np.concatenate((A, B.T), axis=1)\n",
    "\n",
    "np.linalg.matrix_rank(A), np.linalg.matrix_rank(C) "
   ]
  },
  {
   "cell_type": "markdown",
   "metadata": {},
   "source": [
    "Воспользуемся оптимизационным алгоритмом библиотеки NumPy и найдем одно из множества решений, а именно то, которое имеет минимальную норму:"
   ]
  },
  {
   "cell_type": "code",
   "execution_count": 29,
   "metadata": {},
   "outputs": [
    {
     "data": {
      "text/plain": [
       "(array([-10.44444444,  -1.11111111,   8.22222222]),\n",
       " array([], dtype=float64),\n",
       " 2,\n",
       " array([1.68481034e+01, 1.06836951e+00, 4.41842475e-16]))"
      ]
     },
     "execution_count": 29,
     "metadata": {},
     "output_type": "execute_result"
    }
   ],
   "source": [
    "B = np.array([12, 2, -8])\n",
    "X, res, rank, s  = np.linalg.lstsq(A, B, rcond=-1)\n",
    "np.linalg.lstsq(A, B, rcond=-1)"
   ]
  },
  {
   "cell_type": "markdown",
   "metadata": {},
   "source": [
    "__Задание 6.4.__ Вычислите LU-разложение матрицы:\n",
    "### $$\\begin{bmatrix}\n",
    "1 & 2 & 3 \\\\ \n",
    "2 & 16 & 21 \\\\\n",
    "4 & 28 & 73 \n",
    "\\end{bmatrix} $$"
   ]
  },
  {
   "cell_type": "markdown",
   "metadata": {},
   "source": [
    "__Решение:__ <br>\n",
    "Воспользуемся методом библиотеки SciPy, чтобы найти искомое разложение:"
   ]
  },
  {
   "cell_type": "code",
   "execution_count": 30,
   "metadata": {},
   "outputs": [
    {
     "name": "stdout",
     "output_type": "stream",
     "text": [
      "P = \n",
      " [[0. 1. 0.]\n",
      " [0. 0. 1.]\n",
      " [1. 0. 0.]]\n",
      "L = \n",
      " [[ 1.    0.    0.  ]\n",
      " [ 0.25  1.    0.  ]\n",
      " [ 0.5  -0.4   1.  ]]\n",
      "U = \n",
      " [[  4.    28.    73.  ]\n",
      " [  0.    -5.   -15.25]\n",
      " [  0.     0.   -21.6 ]]\n"
     ]
    }
   ],
   "source": [
    "A = np.array([[1, 2, 3], \n",
    "              [2, 16, 21], \n",
    "              [4, 28, 73]])\n",
    "\n",
    "P, L, U = lu(A)\n",
    "print('P = \\n', P)\n",
    "print('L = \\n', L)\n",
    "print('U = \\n', U)"
   ]
  },
  {
   "cell_type": "markdown",
   "metadata": {},
   "source": [
    "__Задание 6.5.__ Найдите нормальное псевдорешение недоопределенной системы:\n",
    "### $$\\left\\{\n",
    "\\begin{array}{ll}\n",
    "  x + 2y - z = 1, \\\\\n",
    "  8x - 5y + 2z = 12.\n",
    "\\end{array} \\right.$$\n",
    "Для этого определите функцию $Q(x, y, z)$, равную норме решения, и найдите ее минимум."
   ]
  },
  {
   "cell_type": "markdown",
   "metadata": {},
   "source": [
    "__Решение:__ <br>\n",
    "Для начала выразим переменные $y$ и $z$ из уравнений системы через $x$:\n",
    "### $$y = 10x - 14$$\n",
    "### $$z = 21x - 29$$"
   ]
  },
  {
   "cell_type": "markdown",
   "metadata": {},
   "source": [
    "Теперь зададим функцию $Q(x, y, z)$, равную норме вектора, и посмотрим при каких значениях она достигает минимума:"
   ]
  },
  {
   "cell_type": "code",
   "execution_count": 31,
   "metadata": {},
   "outputs": [
    {
     "data": {
      "image/png": "[encoded data removed]",
      "text/plain": [
       "<Figure size 432x288 with 1 Axes>"
      ]
     },
     "metadata": {
      "needs_background": "light"
     },
     "output_type": "display_data"
    }
   ],
   "source": [
    "def Q(x, y, z):\n",
    "    return x**2 + y**2 + z **2\n",
    "\n",
    "x = np.linspace(0, 3, 500001)\n",
    "plt.plot(x, Q(x, 10*x-14, 21*x-29))\n",
    "plt.xlabel('x')\n",
    "plt.ylabel('Q')\n",
    "plt.grid(True)\n",
    "plt.show()"
   ]
  },
  {
   "cell_type": "code",
   "execution_count": 32,
   "metadata": {},
   "outputs": [
    {
     "data": {
      "text/plain": [
       "array([ 1.38192, -0.1808 ,  0.02032])"
      ]
     },
     "execution_count": 32,
     "metadata": {},
     "output_type": "execute_result"
    }
   ],
   "source": [
    "x_0 = x[np.argmin(Q(x, 10*x-14, 21*x-29))]\n",
    "y_0 = 10*x_0 - 14\n",
    "z_0 = 21*x_0 - 29\n",
    "np.array([x_0, y_0, z_0])"
   ]
  },
  {
   "cell_type": "markdown",
   "metadata": {},
   "source": [
    "Проверим, правильность наших расчетов, воспользовавшись методом библиотеки NumPy для нахождения нормальных псевдорешений:"
   ]
  },
  {
   "cell_type": "code",
   "execution_count": 33,
   "metadata": {},
   "outputs": [
    {
     "data": {
      "text/plain": [
       "(array([ 1.38191882, -0.18081181,  0.0202952 ]),\n",
       " array([], dtype=float64),\n",
       " 2,\n",
       " array([9.65316119, 2.41173777]))"
      ]
     },
     "execution_count": 33,
     "metadata": {},
     "output_type": "execute_result"
    }
   ],
   "source": [
    "A = np.array([[1, 2, -1], \n",
    "              [8, -5, 2]])\n",
    "B = np.array([1, 12])\n",
    "\n",
    "np.linalg.lstsq(A, B, rcond=-1)"
   ]
  },
  {
   "cell_type": "markdown",
   "metadata": {},
   "source": [
    "Как видим решения, полученные разными способами, очень близки. "
   ]
  },
  {
   "cell_type": "markdown",
   "metadata": {},
   "source": [
    "__Задание 6.6.__ Найдите одно из псевдорешений вырожденной системы:\n",
    "### $$\\begin{bmatrix}\n",
    "1 & 2 & 3 \\\\ \n",
    "4 & 5 & 6 \\\\\n",
    "7 & 8 & 9 \n",
    "\\end{bmatrix} \\cdot X = \\begin{bmatrix}\n",
    "2 \\\\ \n",
    "5 \\\\\n",
    "11\n",
    "\\end{bmatrix}$$\n",
    "Попробуйте также отыскать и нормальное псевдорешение."
   ]
  },
  {
   "cell_type": "markdown",
   "metadata": {},
   "source": [
    "__Решение:__ <br>\n",
    "Воспользуемся QR-разложением, представленном на уроке, матрицы $A$ для нахождения псевдорешения:"
   ]
  },
  {
   "cell_type": "code",
   "execution_count": 34,
   "metadata": {},
   "outputs": [
    {
     "name": "stdout",
     "output_type": "stream",
     "text": [
      "Q = \n",
      " [[-0.12309149  0.90453403  0.40824829]\n",
      " [-0.49236596  0.30151134 -0.81649658]\n",
      " [-0.86164044 -0.30151134  0.40824829]]\n",
      "R = \n",
      " [[-8.12403840e+00 -9.60113630e+00 -1.10782342e+01]\n",
      " [ 0.00000000e+00  9.04534034e-01  1.80906807e+00]\n",
      " [ 0.00000000e+00  0.00000000e+00 -8.88178420e-16]]\n"
     ]
    }
   ],
   "source": [
    "A = np.array([[1, 2, 3], \n",
    "              [4, 5, 6], \n",
    "              [7, 8, 9]])\n",
    "B = np.array([2, 5, 11])\n",
    "Q, R = np.linalg.qr(A)\n",
    "\n",
    "print('Q = \\n', Q)\n",
    "print('R = \\n', R)"
   ]
  },
  {
   "cell_type": "markdown",
   "metadata": {},
   "source": [
    "Далее воспользуемся следующим представлением:\n",
    "### $$ R = \\begin{pmatrix}\n",
    "R_1 & R_2 \\\\\n",
    "0 & 0\n",
    "\\end{pmatrix}$$\n",
    "### $$ X = \\begin{pmatrix}\n",
    "X_1 \\\\\n",
    "X_2\n",
    "\\end{pmatrix}$$\n",
    "### $$ R_1\\cdot X_1 = Q^T \\cdot B - R_2 \\cdot X_2$$\n",
    "Представляя последнюю координату вектора решения как $X_2 = 0$, получаем следующее псевдорешение:"
   ]
  },
  {
   "cell_type": "code",
   "execution_count": 35,
   "metadata": {},
   "outputs": [
    {
     "name": "stdout",
     "output_type": "stream",
     "text": [
      "[1.5 0.  0. ]\n"
     ]
    }
   ],
   "source": [
    "R1 = R[:2, :2]\n",
    "B1 = (Q.T @ B)[:2]\n",
    "X_1 = np.linalg.solve(R1, B1)\n",
    "X = np.round(np.append(X_1, 0), 6)\n",
    "print(X)"
   ]
  },
  {
   "cell_type": "markdown",
   "metadata": {},
   "source": [
    "Норма найденного псевдорешения:"
   ]
  },
  {
   "cell_type": "code",
   "execution_count": 36,
   "metadata": {},
   "outputs": [
    {
     "data": {
      "text/plain": [
       "1.5"
      ]
     },
     "execution_count": 36,
     "metadata": {},
     "output_type": "execute_result"
    }
   ],
   "source": [
    "np.linalg.norm(X)"
   ]
  },
  {
   "cell_type": "markdown",
   "metadata": {},
   "source": [
    "Норма вектора невязки:"
   ]
  },
  {
   "cell_type": "code",
   "execution_count": 37,
   "metadata": {},
   "outputs": [
    {
     "data": {
      "text/plain": [
       "1.224744871391589"
      ]
     },
     "execution_count": 37,
     "metadata": {},
     "output_type": "execute_result"
    }
   ],
   "source": [
    "np.linalg.norm(A @ X - B)"
   ]
  },
  {
   "cell_type": "markdown",
   "metadata": {},
   "source": [
    "Теперь воспользуемся оптимизационным алгоритмом библиотеки NumPy, чтобы найти нормальное псевдорешение данной системы:"
   ]
  },
  {
   "cell_type": "code",
   "execution_count": 38,
   "metadata": {},
   "outputs": [
    {
     "data": {
      "text/plain": [
       "(array([ 1.25,  0.5 , -0.25]),\n",
       " array([], dtype=float64),\n",
       " 2,\n",
       " array([1.68481034e+01, 1.06836951e+00, 4.41842475e-16]))"
      ]
     },
     "execution_count": 38,
     "metadata": {},
     "output_type": "execute_result"
    }
   ],
   "source": [
    "X_norm, res, rank, s  = np.linalg.lstsq(A, B, rcond=-1)\n",
    "np.linalg.lstsq(A, B, rcond=-1)"
   ]
  },
  {
   "cell_type": "markdown",
   "metadata": {},
   "source": [
    "Рассчитаем норму этого решения и норму вектора невязки для него:"
   ]
  },
  {
   "cell_type": "code",
   "execution_count": 39,
   "metadata": {},
   "outputs": [
    {
     "data": {
      "text/plain": [
       "(1.3693063937629126, 1.2247448713915892)"
      ]
     },
     "execution_count": 39,
     "metadata": {},
     "output_type": "execute_result"
    }
   ],
   "source": [
    "np.linalg.norm(X_norm), np.linalg.norm(A @ X_norm - B)"
   ]
  },
  {
   "cell_type": "markdown",
   "metadata": {},
   "source": [
    "Норма данного решения меньше, чем найденного ранее, а норма вектора невязки, что логично осталась без изменений."
   ]
  }
 ],
 "metadata": {
  "kernelspec": {
   "display_name": "Python 3",
   "language": "python",
   "name": "python3"
  },
  "language_info": {
   "codemirror_mode": {
    "name": "ipython",
    "version": 3
   },
   "file_extension": ".py",
   "mimetype": "text/x-python",
   "name": "python",
   "nbconvert_exporter": "python",
   "pygments_lexer": "ipython3",
   "version": "3.8.12"
  }
 },
 "nbformat": 4,
 "nbformat_minor": 4
}
